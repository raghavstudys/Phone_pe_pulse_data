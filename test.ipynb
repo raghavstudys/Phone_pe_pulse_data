{
 "cells": [
  {
   "cell_type": "code",
   "execution_count": 6,
   "metadata": {},
   "outputs": [],
   "source": [
    "import psycopg2\n",
    "import pandas as pd\n"
   ]
  },
  {
   "cell_type": "code",
   "execution_count": 2,
   "metadata": {},
   "outputs": [],
   "source": [
    "my_connection = psycopg2.connect(host='localhost',\n",
    "                                user = 'postgres',\n",
    "                                port = \"5432\",\n",
    "                                database = 'PhonepePulse',\n",
    "                                password = \"Shashi@007\")\n",
    "curr = my_connection.cursor()"
   ]
  },
  {
   "cell_type": "code",
   "execution_count": 3,
   "metadata": {},
   "outputs": [],
   "source": [
    "curr = my_connection.cursor()"
   ]
  },
  {
   "cell_type": "code",
   "execution_count": 12,
   "metadata": {},
   "outputs": [],
   "source": [
    "query = '''select * from map_insurance'''\n",
    "\n",
    "curr.execute(query)\n",
    "a = curr.fetchall()\n",
    "df = pd.DataFrame(a,columns = [i[0] for i in curr.description])\n",
    "\n"
   ]
  },
  {
   "cell_type": "code",
   "execution_count": 13,
   "metadata": {},
   "outputs": [
    {
     "data": {
      "text/html": [
       "<div>\n",
       "<style scoped>\n",
       "    .dataframe tbody tr th:only-of-type {\n",
       "        vertical-align: middle;\n",
       "    }\n",
       "\n",
       "    .dataframe tbody tr th {\n",
       "        vertical-align: top;\n",
       "    }\n",
       "\n",
       "    .dataframe thead th {\n",
       "        text-align: right;\n",
       "    }\n",
       "</style>\n",
       "<table border=\"1\" class=\"dataframe\">\n",
       "  <thead>\n",
       "    <tr style=\"text-align: right;\">\n",
       "      <th></th>\n",
       "      <th>states</th>\n",
       "      <th>years</th>\n",
       "      <th>quarter</th>\n",
       "      <th>district</th>\n",
       "      <th>transaction_count</th>\n",
       "      <th>transaction_amount</th>\n",
       "    </tr>\n",
       "  </thead>\n",
       "  <tbody>\n",
       "    <tr>\n",
       "      <th>0</th>\n",
       "      <td>Andaman &amp; Nicobar</td>\n",
       "      <td>2022</td>\n",
       "      <td>1</td>\n",
       "      <td>north and middle andaman district</td>\n",
       "      <td>48</td>\n",
       "      <td>85229.0</td>\n",
       "    </tr>\n",
       "    <tr>\n",
       "      <th>1</th>\n",
       "      <td>Andaman &amp; Nicobar</td>\n",
       "      <td>2022</td>\n",
       "      <td>1</td>\n",
       "      <td>south andaman district</td>\n",
       "      <td>692</td>\n",
       "      <td>982206.0</td>\n",
       "    </tr>\n",
       "    <tr>\n",
       "      <th>2</th>\n",
       "      <td>Andaman &amp; Nicobar</td>\n",
       "      <td>2022</td>\n",
       "      <td>1</td>\n",
       "      <td>nicobars district</td>\n",
       "      <td>28</td>\n",
       "      <td>63852.0</td>\n",
       "    </tr>\n",
       "    <tr>\n",
       "      <th>3</th>\n",
       "      <td>Andaman &amp; Nicobar</td>\n",
       "      <td>2022</td>\n",
       "      <td>2</td>\n",
       "      <td>north and middle andaman district</td>\n",
       "      <td>45</td>\n",
       "      <td>90403.0</td>\n",
       "    </tr>\n",
       "    <tr>\n",
       "      <th>4</th>\n",
       "      <td>Andaman &amp; Nicobar</td>\n",
       "      <td>2022</td>\n",
       "      <td>2</td>\n",
       "      <td>south andaman district</td>\n",
       "      <td>430</td>\n",
       "      <td>633029.0</td>\n",
       "    </tr>\n",
       "  </tbody>\n",
       "</table>\n",
       "</div>"
      ],
      "text/plain": [
       "              states  years  quarter                           district  \\\n",
       "0  Andaman & Nicobar   2022        1  north and middle andaman district   \n",
       "1  Andaman & Nicobar   2022        1             south andaman district   \n",
       "2  Andaman & Nicobar   2022        1                  nicobars district   \n",
       "3  Andaman & Nicobar   2022        2  north and middle andaman district   \n",
       "4  Andaman & Nicobar   2022        2             south andaman district   \n",
       "\n",
       "   transaction_count  transaction_amount  \n",
       "0                 48             85229.0  \n",
       "1                692            982206.0  \n",
       "2                 28             63852.0  \n",
       "3                 45             90403.0  \n",
       "4                430            633029.0  "
      ]
     },
     "execution_count": 13,
     "metadata": {},
     "output_type": "execute_result"
    }
   ],
   "source": [
    "df.head()"
   ]
  },
  {
   "cell_type": "code",
   "execution_count": 10,
   "metadata": {},
   "outputs": [],
   "source": [
    "import plotly.express as px"
   ]
  },
  {
   "cell_type": "code",
   "execution_count": 17,
   "metadata": {},
   "outputs": [],
   "source": [
    "map_fig = px.scatter_geo(df, \n",
    "                         locations='district', \n",
    "                         projection='orthographic', \n",
    "                         color='years', \n",
    "                         opacity=.8, \n",
    "                         hover_name='states', \n",
    "                         hover_data=['transaction_count', 'transaction_amount'],\n",
    "                         size='transaction_amount',  # Size of the dot based on transaction_amount\n",
    "                         title='Transaction Amount by District (Year-wise)'\n",
    "                        )\n",
    "\n",
    "# Update layout\n",
    "map_fig.update_geos(projection_type=\"orthographic\")\n",
    "map_fig.update_layout(title=dict(font=dict(size=28)))\n",
    "map_fig.show()\n"
   ]
  },
  {
   "cell_type": "code",
   "execution_count": null,
   "metadata": {},
   "outputs": [],
   "source": []
  },
  {
   "cell_type": "code",
   "execution_count": null,
   "metadata": {},
   "outputs": [],
   "source": []
  }
 ],
 "metadata": {
  "kernelspec": {
   "display_name": "Python 3",
   "language": "python",
   "name": "python3"
  },
  "language_info": {
   "codemirror_mode": {
    "name": "ipython",
    "version": 3
   },
   "file_extension": ".py",
   "mimetype": "text/x-python",
   "name": "python",
   "nbconvert_exporter": "python",
   "pygments_lexer": "ipython3",
   "version": "3.12.3"
  }
 },
 "nbformat": 4,
 "nbformat_minor": 2
}
